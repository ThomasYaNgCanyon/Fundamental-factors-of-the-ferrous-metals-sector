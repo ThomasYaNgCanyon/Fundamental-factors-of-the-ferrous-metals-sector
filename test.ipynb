{
 "cells": [
  {
   "cell_type": "code",
   "execution_count": 1,
   "metadata": {},
   "outputs": [
    {
     "data": {
      "text/plain": [
       "<module 'utils' from 'c:\\\\Users\\\\ifwha\\\\OneDrive - CUHK-Shenzhen\\\\桌面\\\\工作\\\\A06_策略研究\\\\黑色板块策略\\\\utils.py'>"
      ]
     },
     "execution_count": 1,
     "metadata": {},
     "output_type": "execute_result"
    }
   ],
   "source": [
    "import pandas as pd\n",
    "import numpy as np\n",
    "import matplotlib.pyplot as plt\n",
    "import utils\n",
    "\n",
    "import importlib\n",
    "importlib.reload(utils)"
   ]
  },
  {
   "cell_type": "code",
   "execution_count": 4,
   "metadata": {},
   "outputs": [],
   "source": [
    "nworth = pd.read_csv(\"result/black.csv\", index_col=0, parse_dates=True)"
   ]
  },
  {
   "cell_type": "code",
   "execution_count": 12,
   "metadata": {},
   "outputs": [],
   "source": [
    "def annualized_sharpe_ratio(prices, periods_per_year=252):\n",
    "    \"\"\"\n",
    "    计算给定收益数据的年化夏普比率。\n",
    "    \n",
    "    参数：\n",
    "    prices (pd.Series): 收益数据序列\n",
    "    periods_per_year (int): 每年的周期数，默认为252（交易日）\n",
    "\n",
    "    返回：\n",
    "    float: 年化夏普比率\n",
    "    \"\"\"\n",
    "    # 计算每日回报率\n",
    "    returns = prices.pct_change().dropna()\n",
    "    \n",
    "    # 计算年化平均回报率\n",
    "    mean_daily_return = np.mean(returns)\n",
    "    annualized_mean_return = mean_daily_return * periods_per_year\n",
    "    \n",
    "    # 计算年化标准差\n",
    "    daily_std = np.std(returns, ddof=1)\n",
    "    annualized_std = daily_std * np.sqrt(periods_per_year)\n",
    "    \n",
    "    # 计算年化夏普比率\n",
    "    sharpe_ratio = annualized_mean_return / annualized_std\n",
    "    \n",
    "    return sharpe_ratio"
   ]
  },
  {
   "cell_type": "code",
   "execution_count": 14,
   "metadata": {},
   "outputs": [
    {
     "data": {
      "text/plain": [
       "net_worth    1.079111\n",
       "dtype: float64"
      ]
     },
     "execution_count": 14,
     "metadata": {},
     "output_type": "execute_result"
    }
   ],
   "source": [
    "annualized_sharpe_ratio(nworth)"
   ]
  }
 ],
 "metadata": {
  "kernelspec": {
   "display_name": "Python 3",
   "language": "python",
   "name": "python3"
  },
  "language_info": {
   "codemirror_mode": {
    "name": "ipython",
    "version": 3
   },
   "file_extension": ".py",
   "mimetype": "text/x-python",
   "name": "python",
   "nbconvert_exporter": "python",
   "pygments_lexer": "ipython3",
   "version": "3.8.10"
  }
 },
 "nbformat": 4,
 "nbformat_minor": 2
}
